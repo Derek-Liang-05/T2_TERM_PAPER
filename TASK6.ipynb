{
 "cells": [
  {
   "cell_type": "markdown",
   "metadata": {},
   "source": [
    "# TASK 6"
   ]
  },
  {
   "cell_type": "markdown",
   "metadata": {},
   "source": [
    "Your boss is curious to know how you have used online sources in completing the assignment.\n",
    "She has asked you to write a statement describing your use of online sources, e.g.,\n",
    "Stackoverflow, official function documentation, generative AI etc. If you have copied code from\n",
    "online, you can use this statement to point out the code snippets that you have not written\n",
    "yourself along with a reference to the source. In addition, if you have used generative AI, e.g.,\n",
    "ChatGPT, your statement should explain how you have used such tools to help with the\n",
    "assignment."
   ]
  },
  {
   "cell_type": "markdown",
   "metadata": {},
   "source": [
    "We have used various sources to help us write our code. Some of the most used are [`Stack Overflow`](https://stackoverflow.com/) and [`Pandas'`](https://pandas.pydata.org/pandas-docs/stable/reference/api/pandas.DataFrame.to_excel.html) own website to find functions or how to best use them. \n",
    "\n",
    "\n",
    "In many cases there was plenty of help provided in reviewing past lecutres and workshops as there are clear explanations and guidings to using the relevant fuctions in similar situations. "
   ]
  }
 ],
 "metadata": {
  "language_info": {
   "name": "python"
  }
 },
 "nbformat": 4,
 "nbformat_minor": 2
}
