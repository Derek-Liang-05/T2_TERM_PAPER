{
 "cells": [
  {
   "cell_type": "markdown",
   "metadata": {},
   "source": [
    "Your boss wants to know how electricity prices in NO2 and Germany have developed over the\n",
    "sample period. Therefore, she has asked you to create a line plot that visualizes the hourly\n",
    "electricity price in NO2 and Germany. The graph should:\n",
    "- consist of two subplots:\n",
    "o The first subplot shows the hourly electricity price in NO2 over time.\n",
    "o The second subplot shows the hourly electricity price in Germany over time.\n",
    "- add a vertical line to each subplot to indicate the official opening of Nordlink (December\n",
    "9, 2020).\n",
    "- be stored as a png file called “figure_task1.png”."
   ]
  },
  {
   "cell_type": "code",
   "execution_count": 31,
   "metadata": {},
   "outputs": [],
   "source": [
    "import pandas as pd\n",
    "import matplotlib.pyplot as plt\n",
    "import glob\n",
    "\n",
    "DATA_PATH = '../data/data/DayAheadPrices_12.1.D'\n",
    "pattern = f'{DATA_PATH}/*_DayAheadPrices_12.1.D.csv'\n",
    "data = []\n",
    "for file in glob.glob(pattern):\n",
    "    df = pd.read_csv(file)\n",
    "    data.append(df)\n",
    "\n"
   ]
  },
  {
   "cell_type": "code",
   "execution_count": 37,
   "metadata": {},
   "outputs": [
    {
     "data": {
      "text/plain": [
       "[]"
      ]
     },
     "execution_count": 37,
     "metadata": {},
     "output_type": "execute_result"
    }
   ],
   "source": [
    "data"
   ]
  },
  {
   "cell_type": "code",
   "execution_count": null,
   "metadata": {},
   "outputs": [],
   "source": [
    "df = pd.concat(data, axis = 0)\n",
    "\n",
    "# 2. Filter for relevant data (NO2 and Germany)\n",
    "data = data[(data[\"MapCode\"].isin([\"NO2\", \"DE_LU\"])) & (data[\"ResolutionCode\"] == \"PT60M\")]\n",
    "\n",
    "# Convert DateTime to datetime format for plotting and filtering\n",
    "data['DateTime'] = pd.to_datetime(data['DateTime'])\n",
    "\n",
    "# Separate data for NO2 and Germany\n",
    "data_no2 = data[data['MapCode'] == \"NO2\"]\n",
    "data_germany = data[data['MapCode'] == \"DE_LU\"]\n",
    "\n",
    "# 3. Plotting\n",
    "fig, axes = plt.subplots(2, 1, figsize=(12, 8), sharex=True)\n",
    "fig.suptitle(\"Hourly Electricity Prices in NO2 and Germany\")\n",
    "\n",
    "# Plot NO2\n",
    "axes[0].plot(data_no2['DateTime'], data_no2['Price'], color='blue')\n",
    "axes[0].axvline(pd.Timestamp(\"2020-12-09\"), color=\"red\", linestyle=\"--\", label=\"Nordlink Opening\")\n",
    "axes[0].set_title(\"Electricity Prices in NO2\")\n",
    "axes[0].set_ylabel(\"Price (EUR/MWh)\")\n",
    "axes[0].legend()\n",
    "\n",
    "# Plot Germany\n",
    "axes[1].plot(data_germany['DateTime'], data_germany['Price'], color='green')\n",
    "axes[1].axvline(pd.Timestamp(\"2020-12-09\"), color=\"red\", linestyle=\"--\", label=\"Nordlink Opening\")\n",
    "axes[1].set_title(\"Electricity Prices in Germany\")\n",
    "axes[1].set_xlabel(\"Date\")\n",
    "axes[1].set_ylabel(\"Price (EUR/MWh)\")\n",
    "axes[1].legend()\n",
    "\n",
    "# Save the plot as figure_task1.png\n",
    "plt.savefig(\"figure_task1.png\")\n",
    "plt.show()\n",
    "\n"
   ]
  },
  {
   "cell_type": "code",
   "execution_count": 38,
   "metadata": {},
   "outputs": [
    {
     "ename": "KeyError",
     "evalue": "'MapCode'",
     "output_type": "error",
     "traceback": [
      "\u001b[1;31m---------------------------------------------------------------------------\u001b[0m",
      "\u001b[1;31mKeyError\u001b[0m                                  Traceback (most recent call last)",
      "File \u001b[1;32mc:\\Users\\Phuong Nguyen\\anaconda3\\Lib\\site-packages\\pandas\\core\\indexes\\base.py:3805\u001b[0m, in \u001b[0;36mIndex.get_loc\u001b[1;34m(self, key)\u001b[0m\n\u001b[0;32m   3804\u001b[0m \u001b[38;5;28;01mtry\u001b[39;00m:\n\u001b[1;32m-> 3805\u001b[0m     \u001b[38;5;28;01mreturn\u001b[39;00m \u001b[38;5;28mself\u001b[39m\u001b[38;5;241m.\u001b[39m_engine\u001b[38;5;241m.\u001b[39mget_loc(casted_key)\n\u001b[0;32m   3806\u001b[0m \u001b[38;5;28;01mexcept\u001b[39;00m \u001b[38;5;167;01mKeyError\u001b[39;00m \u001b[38;5;28;01mas\u001b[39;00m err:\n",
      "File \u001b[1;32mindex.pyx:167\u001b[0m, in \u001b[0;36mpandas._libs.index.IndexEngine.get_loc\u001b[1;34m()\u001b[0m\n",
      "File \u001b[1;32mindex.pyx:196\u001b[0m, in \u001b[0;36mpandas._libs.index.IndexEngine.get_loc\u001b[1;34m()\u001b[0m\n",
      "File \u001b[1;32mpandas\\\\_libs\\\\hashtable_class_helper.pxi:7081\u001b[0m, in \u001b[0;36mpandas._libs.hashtable.PyObjectHashTable.get_item\u001b[1;34m()\u001b[0m\n",
      "File \u001b[1;32mpandas\\\\_libs\\\\hashtable_class_helper.pxi:7089\u001b[0m, in \u001b[0;36mpandas._libs.hashtable.PyObjectHashTable.get_item\u001b[1;34m()\u001b[0m\n",
      "\u001b[1;31mKeyError\u001b[0m: 'MapCode'",
      "\nThe above exception was the direct cause of the following exception:\n",
      "\u001b[1;31mKeyError\u001b[0m                                  Traceback (most recent call last)",
      "Cell \u001b[1;32mIn[38], line 11\u001b[0m\n\u001b[0;32m      8\u001b[0m data \u001b[38;5;241m=\u001b[39m pd\u001b[38;5;241m.\u001b[39mconcat((pd\u001b[38;5;241m.\u001b[39mread_csv(file) \u001b[38;5;28;01mfor\u001b[39;00m file \u001b[38;5;129;01min\u001b[39;00m file_paths), ignore_index\u001b[38;5;241m=\u001b[39m\u001b[38;5;28;01mTrue\u001b[39;00m)\n\u001b[0;32m     10\u001b[0m \u001b[38;5;66;03m# 2. Filter for relevant data (NO2 and Germany)\u001b[39;00m\n\u001b[1;32m---> 11\u001b[0m data \u001b[38;5;241m=\u001b[39m data[(data[\u001b[38;5;124m\"\u001b[39m\u001b[38;5;124mMapCode\u001b[39m\u001b[38;5;124m\"\u001b[39m]\u001b[38;5;241m.\u001b[39misin([\u001b[38;5;124m\"\u001b[39m\u001b[38;5;124mNO2\u001b[39m\u001b[38;5;124m\"\u001b[39m, \u001b[38;5;124m\"\u001b[39m\u001b[38;5;124mDE_LU\u001b[39m\u001b[38;5;124m\"\u001b[39m])) \u001b[38;5;241m&\u001b[39m (data[\u001b[38;5;124m\"\u001b[39m\u001b[38;5;124mResolutionCode\u001b[39m\u001b[38;5;124m\"\u001b[39m] \u001b[38;5;241m==\u001b[39m \u001b[38;5;124m\"\u001b[39m\u001b[38;5;124mPT60M\u001b[39m\u001b[38;5;124m\"\u001b[39m)]\n\u001b[0;32m     13\u001b[0m \u001b[38;5;66;03m# Convert DateTime to datetime format for plotting and filtering\u001b[39;00m\n\u001b[0;32m     14\u001b[0m data[\u001b[38;5;124m'\u001b[39m\u001b[38;5;124mDateTime\u001b[39m\u001b[38;5;124m'\u001b[39m] \u001b[38;5;241m=\u001b[39m pd\u001b[38;5;241m.\u001b[39mto_datetime(data[\u001b[38;5;124m'\u001b[39m\u001b[38;5;124mDateTime\u001b[39m\u001b[38;5;124m'\u001b[39m])\n",
      "File \u001b[1;32mc:\\Users\\Phuong Nguyen\\anaconda3\\Lib\\site-packages\\pandas\\core\\frame.py:4102\u001b[0m, in \u001b[0;36mDataFrame.__getitem__\u001b[1;34m(self, key)\u001b[0m\n\u001b[0;32m   4100\u001b[0m \u001b[38;5;28;01mif\u001b[39;00m \u001b[38;5;28mself\u001b[39m\u001b[38;5;241m.\u001b[39mcolumns\u001b[38;5;241m.\u001b[39mnlevels \u001b[38;5;241m>\u001b[39m \u001b[38;5;241m1\u001b[39m:\n\u001b[0;32m   4101\u001b[0m     \u001b[38;5;28;01mreturn\u001b[39;00m \u001b[38;5;28mself\u001b[39m\u001b[38;5;241m.\u001b[39m_getitem_multilevel(key)\n\u001b[1;32m-> 4102\u001b[0m indexer \u001b[38;5;241m=\u001b[39m \u001b[38;5;28mself\u001b[39m\u001b[38;5;241m.\u001b[39mcolumns\u001b[38;5;241m.\u001b[39mget_loc(key)\n\u001b[0;32m   4103\u001b[0m \u001b[38;5;28;01mif\u001b[39;00m is_integer(indexer):\n\u001b[0;32m   4104\u001b[0m     indexer \u001b[38;5;241m=\u001b[39m [indexer]\n",
      "File \u001b[1;32mc:\\Users\\Phuong Nguyen\\anaconda3\\Lib\\site-packages\\pandas\\core\\indexes\\base.py:3812\u001b[0m, in \u001b[0;36mIndex.get_loc\u001b[1;34m(self, key)\u001b[0m\n\u001b[0;32m   3807\u001b[0m     \u001b[38;5;28;01mif\u001b[39;00m \u001b[38;5;28misinstance\u001b[39m(casted_key, \u001b[38;5;28mslice\u001b[39m) \u001b[38;5;129;01mor\u001b[39;00m (\n\u001b[0;32m   3808\u001b[0m         \u001b[38;5;28misinstance\u001b[39m(casted_key, abc\u001b[38;5;241m.\u001b[39mIterable)\n\u001b[0;32m   3809\u001b[0m         \u001b[38;5;129;01mand\u001b[39;00m \u001b[38;5;28many\u001b[39m(\u001b[38;5;28misinstance\u001b[39m(x, \u001b[38;5;28mslice\u001b[39m) \u001b[38;5;28;01mfor\u001b[39;00m x \u001b[38;5;129;01min\u001b[39;00m casted_key)\n\u001b[0;32m   3810\u001b[0m     ):\n\u001b[0;32m   3811\u001b[0m         \u001b[38;5;28;01mraise\u001b[39;00m InvalidIndexError(key)\n\u001b[1;32m-> 3812\u001b[0m     \u001b[38;5;28;01mraise\u001b[39;00m \u001b[38;5;167;01mKeyError\u001b[39;00m(key) \u001b[38;5;28;01mfrom\u001b[39;00m \u001b[38;5;21;01merr\u001b[39;00m\n\u001b[0;32m   3813\u001b[0m \u001b[38;5;28;01mexcept\u001b[39;00m \u001b[38;5;167;01mTypeError\u001b[39;00m:\n\u001b[0;32m   3814\u001b[0m     \u001b[38;5;66;03m# If we have a listlike key, _check_indexing_error will raise\u001b[39;00m\n\u001b[0;32m   3815\u001b[0m     \u001b[38;5;66;03m#  InvalidIndexError. Otherwise we fall through and re-raise\u001b[39;00m\n\u001b[0;32m   3816\u001b[0m     \u001b[38;5;66;03m#  the TypeError.\u001b[39;00m\n\u001b[0;32m   3817\u001b[0m     \u001b[38;5;28mself\u001b[39m\u001b[38;5;241m.\u001b[39m_check_indexing_error(key)\n",
      "\u001b[1;31mKeyError\u001b[0m: 'MapCode'"
     ]
    }
   ],
   "source": [
    "import pandas as pd\n",
    "import matplotlib.pyplot as plt\n",
    "import glob\n",
    "\n",
    "# 1. Load the data\n",
    "# Assuming data files are in a folder named \"data\" with monthly CSV files\n",
    "file_paths = glob.glob(\"data/DayAheadPrices_12.1.D/*.csv\")\n",
    "data = pd.concat((pd.read_csv(file) for file in file_paths), ignore_index=True)\n",
    "\n",
    "# 2. Filter for relevant data (NO2 and Germany)\n",
    "data = data[(data[\"MapCode\"].isin([\"NO2\", \"DE_LU\"])) & (data[\"ResolutionCode\"] == \"PT60M\")]\n",
    "\n",
    "# Convert DateTime to datetime format for plotting and filtering\n",
    "data['DateTime'] = pd.to_datetime(data['DateTime'])\n",
    "\n",
    "# Separate data for NO2 and Germany\n",
    "data_no2 = data[data['MapCode'] == \"NO2\"]\n",
    "data_germany = data[data['MapCode'] == \"DE_LU\"]\n",
    "\n",
    "# 3. Plotting\n",
    "fig, axes = plt.subplots(2, 1, figsize=(12, 8), sharex=True)\n",
    "fig.suptitle(\"Hourly Electricity Prices in NO2 and Germany\")\n",
    "\n",
    "# Plot NO2\n",
    "axes[0].plot(data_no2['DateTime'], data_no2['Price'], color='blue')\n",
    "axes[0].axvline(pd.Timestamp(\"2020-12-09\"), color=\"red\", linestyle=\"--\", label=\"Nordlink Opening\")\n",
    "axes[0].set_title(\"Electricity Prices in NO2\")\n",
    "axes[0].set_ylabel(\"Price (EUR/MWh)\")\n",
    "axes[0].legend()\n",
    "\n",
    "# Plot Germany\n",
    "axes[1].plot(data_germany['DateTime'], data_germany['Price'], color='green')\n",
    "axes[1].axvline(pd.Timestamp(\"2020-12-09\"), color=\"red\", linestyle=\"--\", label=\"Nordlink Opening\")\n",
    "axes[1].set_title(\"Electricity Prices in Germany\")\n",
    "axes[1].set_xlabel(\"Date\")\n",
    "axes[1].set_ylabel(\"Price (EUR/MWh)\")\n",
    "axes[1].legend()\n",
    "\n",
    "# Save the plot as figure_task1.png\n",
    "plt.savefig(\"figure_task1.png\")\n",
    "plt.show()\n"
   ]
  },
  {
   "cell_type": "code",
   "execution_count": null,
   "metadata": {},
   "outputs": [],
   "source": []
  }
 ],
 "metadata": {
  "kernelspec": {
   "display_name": "base",
   "language": "python",
   "name": "python3"
  },
  "language_info": {
   "codemirror_mode": {
    "name": "ipython",
    "version": 3
   },
   "file_extension": ".py",
   "mimetype": "text/x-python",
   "name": "python",
   "nbconvert_exporter": "python",
   "pygments_lexer": "ipython3",
   "version": "3.12.4"
  }
 },
 "nbformat": 4,
 "nbformat_minor": 2
}
